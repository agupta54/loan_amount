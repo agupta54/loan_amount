{
 "cells": [
  {
   "cell_type": "code",
   "execution_count": 268,
   "metadata": {},
   "outputs": [],
   "source": [
    "# import some necessary libraries \n",
    "import numpy as np \n",
    "import pandas as pd \n",
    "% matplotlib inline \n",
    "import matplotlib.pyplot as plt \n",
    "import seaborn as sns \n",
    "color = sns.color_palette()\n",
    "sns.set_style('darkgrid')\n",
    "import warnings \n",
    "def ignore_warn(*args, **kwargs):\n",
    "    pass\n",
    "warnings.warn = ignore_warn \n",
    "from scipy import stats \n",
    "from scipy.stats import norm, skew \n",
    "pd.set_option('display.float_format', lambda x: '{:.3f}'.format(x))\n",
    "from sklearn.utils import shuffle\n",
    "from scipy.special import boxcox1p\n",
    "from math import sqrt"
   ]
  },
  {
   "cell_type": "code",
   "execution_count": 216,
   "metadata": {},
   "outputs": [],
   "source": [
    "# Importing data \n",
    "df = pd.read_csv('data_eda.csv')"
   ]
  },
  {
   "cell_type": "code",
   "execution_count": 217,
   "metadata": {},
   "outputs": [
    {
     "data": {
      "text/html": [
       "<div>\n",
       "<style scoped>\n",
       "    .dataframe tbody tr th:only-of-type {\n",
       "        vertical-align: middle;\n",
       "    }\n",
       "\n",
       "    .dataframe tbody tr th {\n",
       "        vertical-align: top;\n",
       "    }\n",
       "\n",
       "    .dataframe thead th {\n",
       "        text-align: right;\n",
       "    }\n",
       "</style>\n",
       "<table border=\"1\" class=\"dataframe\">\n",
       "  <thead>\n",
       "    <tr style=\"text-align: right;\">\n",
       "      <th></th>\n",
       "      <th>age</th>\n",
       "      <th>sex</th>\n",
       "      <th>social_class</th>\n",
       "      <th>primary_business</th>\n",
       "      <th>secondary_business</th>\n",
       "      <th>annual_income</th>\n",
       "      <th>monthly_expenses</th>\n",
       "      <th>old_dependents</th>\n",
       "      <th>young_dependents</th>\n",
       "      <th>home_ownership</th>\n",
       "      <th>type_of_house</th>\n",
       "      <th>occupants_count</th>\n",
       "      <th>house_area</th>\n",
       "      <th>sanitary_availability</th>\n",
       "      <th>water_availabity</th>\n",
       "      <th>loan_purpose</th>\n",
       "      <th>loan_tenure</th>\n",
       "      <th>loan_installments</th>\n",
       "      <th>loan_amount</th>\n",
       "    </tr>\n",
       "  </thead>\n",
       "  <tbody>\n",
       "    <tr>\n",
       "      <th>0</th>\n",
       "      <td>22</td>\n",
       "      <td>F</td>\n",
       "      <td>Other</td>\n",
       "      <td>Tailoring</td>\n",
       "      <td>Others</td>\n",
       "      <td>36000.000</td>\n",
       "      <td>5000.000</td>\n",
       "      <td>0</td>\n",
       "      <td>2</td>\n",
       "      <td>1</td>\n",
       "      <td>R</td>\n",
       "      <td>4</td>\n",
       "      <td>70.000</td>\n",
       "      <td>1</td>\n",
       "      <td>0</td>\n",
       "      <td>Apparels</td>\n",
       "      <td>12</td>\n",
       "      <td>12</td>\n",
       "      <td>5000.000</td>\n",
       "    </tr>\n",
       "    <tr>\n",
       "      <th>1</th>\n",
       "      <td>21</td>\n",
       "      <td>F</td>\n",
       "      <td>OBC</td>\n",
       "      <td>Tailoring</td>\n",
       "      <td>none</td>\n",
       "      <td>94000.000</td>\n",
       "      <td>3600.000</td>\n",
       "      <td>1</td>\n",
       "      <td>1</td>\n",
       "      <td>1</td>\n",
       "      <td>T1</td>\n",
       "      <td>4</td>\n",
       "      <td>80.000</td>\n",
       "      <td>1</td>\n",
       "      <td>0</td>\n",
       "      <td>Apparels</td>\n",
       "      <td>12</td>\n",
       "      <td>50</td>\n",
       "      <td>7500.000</td>\n",
       "    </tr>\n",
       "    <tr>\n",
       "      <th>2</th>\n",
       "      <td>24</td>\n",
       "      <td>M</td>\n",
       "      <td>Other</td>\n",
       "      <td>Other</td>\n",
       "      <td>Others</td>\n",
       "      <td>48000.000</td>\n",
       "      <td>4000.000</td>\n",
       "      <td>0</td>\n",
       "      <td>2</td>\n",
       "      <td>1</td>\n",
       "      <td>T1</td>\n",
       "      <td>4</td>\n",
       "      <td>50.000</td>\n",
       "      <td>1</td>\n",
       "      <td>0</td>\n",
       "      <td>Beauty Salon</td>\n",
       "      <td>12</td>\n",
       "      <td>12</td>\n",
       "      <td>5000.000</td>\n",
       "    </tr>\n",
       "    <tr>\n",
       "      <th>3</th>\n",
       "      <td>26</td>\n",
       "      <td>F</td>\n",
       "      <td>OBC</td>\n",
       "      <td>Tailoring</td>\n",
       "      <td>none</td>\n",
       "      <td>7000.000</td>\n",
       "      <td>5000.000</td>\n",
       "      <td>0</td>\n",
       "      <td>2</td>\n",
       "      <td>1</td>\n",
       "      <td>T1</td>\n",
       "      <td>5</td>\n",
       "      <td>50.000</td>\n",
       "      <td>1</td>\n",
       "      <td>0</td>\n",
       "      <td>Apparels</td>\n",
       "      <td>12</td>\n",
       "      <td>50</td>\n",
       "      <td>7500.000</td>\n",
       "    </tr>\n",
       "    <tr>\n",
       "      <th>4</th>\n",
       "      <td>23</td>\n",
       "      <td>F</td>\n",
       "      <td>OBC</td>\n",
       "      <td>Other</td>\n",
       "      <td>Agriculture</td>\n",
       "      <td>36000.000</td>\n",
       "      <td>3500.000</td>\n",
       "      <td>0</td>\n",
       "      <td>0</td>\n",
       "      <td>1</td>\n",
       "      <td>T1</td>\n",
       "      <td>1</td>\n",
       "      <td>112.000</td>\n",
       "      <td>1</td>\n",
       "      <td>0</td>\n",
       "      <td>Retail Store</td>\n",
       "      <td>12</td>\n",
       "      <td>12</td>\n",
       "      <td>5000.000</td>\n",
       "    </tr>\n",
       "  </tbody>\n",
       "</table>\n",
       "</div>"
      ],
      "text/plain": [
       "   age sex social_class primary_business secondary_business  annual_income  \\\n",
       "0   22   F        Other        Tailoring             Others      36000.000   \n",
       "1   21   F          OBC        Tailoring               none      94000.000   \n",
       "2   24   M        Other            Other             Others      48000.000   \n",
       "3   26   F          OBC        Tailoring               none       7000.000   \n",
       "4   23   F          OBC            Other        Agriculture      36000.000   \n",
       "\n",
       "   monthly_expenses  old_dependents  young_dependents  home_ownership  \\\n",
       "0          5000.000               0                 2               1   \n",
       "1          3600.000               1                 1               1   \n",
       "2          4000.000               0                 2               1   \n",
       "3          5000.000               0                 2               1   \n",
       "4          3500.000               0                 0               1   \n",
       "\n",
       "  type_of_house  occupants_count  house_area  sanitary_availability  \\\n",
       "0             R                4      70.000                      1   \n",
       "1            T1                4      80.000                      1   \n",
       "2            T1                4      50.000                      1   \n",
       "3            T1                5      50.000                      1   \n",
       "4            T1                1     112.000                      1   \n",
       "\n",
       "   water_availabity  loan_purpose  loan_tenure  loan_installments  loan_amount  \n",
       "0                 0      Apparels           12                 12     5000.000  \n",
       "1                 0      Apparels           12                 50     7500.000  \n",
       "2                 0  Beauty Salon           12                 12     5000.000  \n",
       "3                 0      Apparels           12                 50     7500.000  \n",
       "4                 0  Retail Store           12                 12     5000.000  "
      ]
     },
     "execution_count": 217,
     "metadata": {},
     "output_type": "execute_result"
    }
   ],
   "source": [
    "df.drop(\"Unnamed: 0\", axis=1, inplace=True) #Rectifying  a glitch after importing data from R\n",
    "df.head()\n"
   ]
  },
  {
   "cell_type": "markdown",
   "metadata": {},
   "source": [
    "## Rectifying outliers if any "
   ]
  },
  {
   "cell_type": "code",
   "execution_count": 218,
   "metadata": {},
   "outputs": [
    {
     "data": {
      "image/png": "[encoded data removed]",
      "text/plain": [
       "<Figure size 432x288 with 1 Axes>"
      ]
     },
     "metadata": {},
     "output_type": "display_data"
    }
   ],
   "source": [
    "fig, ax = plt.subplots()\n",
    "ax.scatter(x=df['age'], y=df['loan_amount'])\n",
    "plt.ylabel('loan_amount', fontsize=13)\n",
    "plt.xlabel('age', fontsize=13)\n",
    "plt.show()"
   ]
  },
  {
   "cell_type": "markdown",
   "metadata": {},
   "source": [
    "Most of the loans are within within 2,00,000. There are just three data points which are around 10,00,000 and above. We drop these points."
   ]
  },
  {
   "cell_type": "code",
   "execution_count": 219,
   "metadata": {},
   "outputs": [
    {
     "data": {
      "image/png": "[encoded data removed]",
      "text/plain": [
       "<Figure size 432x288 with 1 Axes>"
      ]
     },
     "metadata": {},
     "output_type": "display_data"
    }
   ],
   "source": [
    "# Deleting outlier\n",
    "df = df.drop(df[(df['loan_amount']>800000) & (df['age']>30)].index)\n",
    "fig, ax = plt.subplots()\n",
    "# Checking again \n",
    "ax.scatter(x=df['age'], y=df['loan_amount'])\n",
    "plt.ylabel('loan_amount', fontsize=13)\n",
    "plt.xlabel('age', fontsize=13)\n",
    "plt.show()"
   ]
  },
  {
   "cell_type": "code",
   "execution_count": 220,
   "metadata": {},
   "outputs": [
    {
     "data": {
      "image/png": "[encoded data removed]",
      "text/plain": [
       "<Figure size 432x288 with 1 Axes>"
      ]
     },
     "metadata": {},
     "output_type": "display_data"
    }
   ],
   "source": [
    "fig, ax = plt.subplots()\n",
    "ax.scatter(x=df['house_area'], y=df['loan_amount'])\n",
    "plt.ylabel('loan_amount', fontsize=13)\n",
    "plt.xlabel('house_area', fontsize=13)\n",
    "plt.show()"
   ]
  },
  {
   "cell_type": "markdown",
   "metadata": {},
   "source": [
    "A house area of 7000000 is unrealistic. Let us drop this customer data. \n"
   ]
  },
  {
   "cell_type": "code",
   "execution_count": 221,
   "metadata": {},
   "outputs": [
    {
     "data": {
      "image/png": "[encoded data removed]",
      "text/plain": [
       "<Figure size 432x288 with 1 Axes>"
      ]
     },
     "metadata": {},
     "output_type": "display_data"
    }
   ],
   "source": [
    "df = df.drop(df[(df['house_area']>400000)].index)\n",
    "fig, ax = plt.subplots()\n",
    "ax.scatter(x=df['house_area'], y=df['loan_amount'])\n",
    "plt.ylabel('loan_amount', fontsize=13)\n",
    "plt.xlabel('house_area', fontsize=13)\n",
    "plt.show()"
   ]
  },
  {
   "cell_type": "markdown",
   "metadata": {},
   "source": [
    "**Note :**\n",
    "Outliers removal is note always safe. We decided to delete these vallues as they are very huge and really bad ( extremely large areas).\n",
    "\n",
    "There are probably others outliers in the training data. However, removing all them may affect badly our models if ever there were also outliers in the test data. That's why , instead of removing them all, we will just manage to make some of our models robust on them."
   ]
  },
  {
   "cell_type": "markdown",
   "metadata": {},
   "source": [
    "## Target Variable \n",
    "\n",
    "<code>loan_amount</code> is our target variable so lets do some analysis of it first. "
   ]
  },
  {
   "cell_type": "code",
   "execution_count": 222,
   "metadata": {},
   "outputs": [
    {
     "name": "stderr",
     "output_type": "stream",
     "text": [
      "/home/anirudh/miniconda3/lib/python3.6/site-packages/scipy/stats/stats.py:1713: FutureWarning: Using a non-tuple sequence for multidimensional indexing is deprecated; use `arr[tuple(seq)]` instead of `arr[seq]`. In the future this will be interpreted as an array index, `arr[np.array(seq)]`, which will result either in an error or a different result.\n",
      "  return np.add.reduce(sorted[indexer] * weights, axis=axis) / sumval\n"
     ]
    },
    {
     "name": "stdout",
     "output_type": "stream",
     "text": [
      "\n",
      " mu = 8329.66 and sigma = 9549.15\n",
      "\n"
     ]
    },
    {
     "data": {
      "image/png": "[encoded data removed]",
      "text/plain": [
       "<Figure size 432x288 with 1 Axes>"
      ]
     },
     "metadata": {},
     "output_type": "display_data"
    },
    {
     "data": {
      "image/png": "[encoded data removed]",
      "text/plain": [
       "<Figure size 432x288 with 1 Axes>"
      ]
     },
     "metadata": {},
     "output_type": "display_data"
    }
   ],
   "source": [
    "# Exploring target variable SalePrice \n",
    "sns.distplot(df['loan_amount'], fit=norm);\n",
    "\n",
    "# Get the fitted parameters used by the function \n",
    "(mu, sigma) = norm.fit(df['loan_amount'])\n",
    "print('\\n mu = {:.2f} and sigma = {:.2f}\\n'.format(mu, sigma))\n",
    "\n",
    "# Now plot the distribution \n",
    "plt.legend(['Normal dist. ($\\mu=$ {:.2f} and $\\sigma=$ {:.2f})'.format(mu,sigma)], loc='best')\n",
    "plt.ylabel('Frequency')\n",
    "plt.xlabel('Loan Amount Distribution')\n",
    "\n",
    "# Get also the QQ plot \n",
    "fig = plt.figure()\n",
    "red = stats.probplot(df['loan_amount'], plot=plt)\n",
    "plt.show()"
   ]
  },
  {
   "cell_type": "markdown",
   "metadata": {},
   "source": [
    "The target variable is right skewed. As (linear) models love normally distributed data , we need to transform this variable and make it more normally distributed.\n",
    "\n",
    "** Transformation of the target variable**"
   ]
  },
  {
   "cell_type": "code",
   "execution_count": 223,
   "metadata": {},
   "outputs": [
    {
     "name": "stderr",
     "output_type": "stream",
     "text": [
      "/home/anirudh/miniconda3/lib/python3.6/site-packages/scipy/stats/stats.py:1713: FutureWarning: Using a non-tuple sequence for multidimensional indexing is deprecated; use `arr[tuple(seq)]` instead of `arr[seq]`. In the future this will be interpreted as an array index, `arr[np.array(seq)]`, which will result either in an error or a different result.\n",
      "  return np.add.reduce(sorted[indexer] * weights, axis=axis) / sumval\n"
     ]
    },
    {
     "name": "stdout",
     "output_type": "stream",
     "text": [
      "\n",
      " mu = 8.93 and sigma = 0.39\n",
      "\n"
     ]
    },
    {
     "data": {
      "image/png": "[encoded data removed]",
      "text/plain": [
       "<Figure size 432x288 with 1 Axes>"
      ]
     },
     "metadata": {},
     "output_type": "display_data"
    },
    {
     "data": {
      "image/png": "[encoded data removed]",
      "text/plain": [
       "<Figure size 432x288 with 1 Axes>"
      ]
     },
     "metadata": {},
     "output_type": "display_data"
    }
   ],
   "source": [
    "df['loan_amount'] = np.log1p(df['loan_amount'])\n",
    "\n",
    "# Check the new distribution \n",
    "sns.distplot(df['loan_amount'], fit=norm)\n",
    "\n",
    "# Get the fitted parameters used by the function\n",
    "(mu, sigma) = norm.fit(df['loan_amount'])\n",
    "print( '\\n mu = {:.2f} and sigma = {:.2f}\\n'.format(mu, sigma))\n",
    "\n",
    "#Now plot the distribution\n",
    "plt.legend(['Normal dist. ($\\mu=$ {:.2f} and $\\sigma=$ {:.2f} )'.format(mu, sigma)],\n",
    "            loc='best')\n",
    "plt.ylabel('Frequency')\n",
    "plt.title('loan_amount distribution')\n",
    "\n",
    "#Get also the QQ-plot\n",
    "fig = plt.figure()\n",
    "res = stats.probplot(df['loan_amount'], plot=plt)\n",
    "plt.show()"
   ]
  },
  {
   "cell_type": "markdown",
   "metadata": {},
   "source": [
    "The distribution of <code>loan_amount</code> is still not normal like but the skewness in reduced by taking log. "
   ]
  },
  {
   "cell_type": "markdown",
   "metadata": {},
   "source": [
    "## Feature Engineering"
   ]
  },
  {
   "cell_type": "code",
   "execution_count": 224,
   "metadata": {},
   "outputs": [
    {
     "data": {
      "text/plain": [
       "age                        int64\n",
       "sex                       object\n",
       "social_class              object\n",
       "primary_business          object\n",
       "secondary_business        object\n",
       "annual_income            float64\n",
       "monthly_expenses         float64\n",
       "old_dependents             int64\n",
       "young_dependents           int64\n",
       "home_ownership             int64\n",
       "type_of_house             object\n",
       "occupants_count            int64\n",
       "house_area               float64\n",
       "sanitary_availability      int64\n",
       "water_availabity           int64\n",
       "loan_purpose              object\n",
       "loan_tenure                int64\n",
       "loan_installments          int64\n",
       "loan_amount              float64\n",
       "dtype: object"
      ]
     },
     "execution_count": 224,
     "metadata": {},
     "output_type": "execute_result"
    }
   ],
   "source": [
    "df.dtypes"
   ]
  },
  {
   "cell_type": "code",
   "execution_count": 225,
   "metadata": {},
   "outputs": [],
   "source": [
    "df['water_availabity'] = df['water_availabity'].astype(object)\n",
    "df['sanitary_availability'] = df['sanitary_availability'].astype(object)\n",
    "df['home_ownership'] = df['home_ownership'].astype(object)"
   ]
  },
  {
   "cell_type": "code",
   "execution_count": 226,
   "metadata": {},
   "outputs": [
    {
     "name": "stdout",
     "output_type": "stream",
     "text": [
      "\n",
      "Skew in numerical features: \n",
      "\n"
     ]
    },
    {
     "data": {
      "text/html": [
       "<div>\n",
       "<style scoped>\n",
       "    .dataframe tbody tr th:only-of-type {\n",
       "        vertical-align: middle;\n",
       "    }\n",
       "\n",
       "    .dataframe tbody tr th {\n",
       "        vertical-align: top;\n",
       "    }\n",
       "\n",
       "    .dataframe thead th {\n",
       "        text-align: right;\n",
       "    }\n",
       "</style>\n",
       "<table border=\"1\" class=\"dataframe\">\n",
       "  <thead>\n",
       "    <tr style=\"text-align: right;\">\n",
       "      <th></th>\n",
       "      <th>Skew</th>\n",
       "    </tr>\n",
       "  </thead>\n",
       "  <tbody>\n",
       "    <tr>\n",
       "      <th>house_area</th>\n",
       "      <td>81.865</td>\n",
       "    </tr>\n",
       "    <tr>\n",
       "      <th>loan_tenure</th>\n",
       "      <td>17.685</td>\n",
       "    </tr>\n",
       "    <tr>\n",
       "      <th>monthly_expenses</th>\n",
       "      <td>15.598</td>\n",
       "    </tr>\n",
       "    <tr>\n",
       "      <th>annual_income</th>\n",
       "      <td>7.990</td>\n",
       "    </tr>\n",
       "    <tr>\n",
       "      <th>old_dependents</th>\n",
       "      <td>5.257</td>\n",
       "    </tr>\n",
       "    <tr>\n",
       "      <th>loan_installments</th>\n",
       "      <td>1.103</td>\n",
       "    </tr>\n",
       "    <tr>\n",
       "      <th>occupants_count</th>\n",
       "      <td>0.615</td>\n",
       "    </tr>\n",
       "    <tr>\n",
       "      <th>young_dependents</th>\n",
       "      <td>0.594</td>\n",
       "    </tr>\n",
       "    <tr>\n",
       "      <th>loan_amount</th>\n",
       "      <td>0.404</td>\n",
       "    </tr>\n",
       "    <tr>\n",
       "      <th>age</th>\n",
       "      <td>0.298</td>\n",
       "    </tr>\n",
       "  </tbody>\n",
       "</table>\n",
       "</div>"
      ],
      "text/plain": [
       "                    Skew\n",
       "house_area        81.865\n",
       "loan_tenure       17.685\n",
       "monthly_expenses  15.598\n",
       "annual_income      7.990\n",
       "old_dependents     5.257\n",
       "loan_installments  1.103\n",
       "occupants_count    0.615\n",
       "young_dependents   0.594\n",
       "loan_amount        0.404\n",
       "age                0.298"
      ]
     },
     "execution_count": 226,
     "metadata": {},
     "output_type": "execute_result"
    }
   ],
   "source": [
    "# skewed features\n",
    "numeric_feats = df.dtypes[df.dtypes != \"object\"].index\n",
    "\n",
    "# Check the skew of all numerical features\n",
    "skewed_feats = df[numeric_feats].apply(lambda x: skew(x.dropna())).sort_values(ascending=False)\n",
    "print(\"\\nSkew in numerical features: \\n\")\n",
    "skewness = pd.DataFrame({'Skew' :skewed_feats})\n",
    "skewness.head(10)"
   ]
  },
  {
   "cell_type": "code",
   "execution_count": 227,
   "metadata": {},
   "outputs": [
    {
     "name": "stdout",
     "output_type": "stream",
     "text": [
      "There are 10 skewed numerical features to Box Cox transform\n"
     ]
    }
   ],
   "source": [
    "# Box Cox transformation for highly skewed features\n",
    "skewness = skewness[abs(skewness) > 0.75]\n",
    "print(\"There are {} skewed numerical features to Box Cox transform\".format(skewness.shape[0]))\n",
    "\n",
    "from scipy.special import boxcox1p\n",
    "skewed_features = skewness.index\n",
    "lam = 0.15 \n",
    "for feat in skewed_features:\n",
    "    df[feat] = boxcox1p(df[feat], lam)"
   ]
  },
  {
   "cell_type": "markdown",
   "metadata": {},
   "source": [
    "## Getting dummy categorical features"
   ]
  },
  {
   "cell_type": "code",
   "execution_count": 228,
   "metadata": {},
   "outputs": [
    {
     "name": "stdout",
     "output_type": "stream",
     "text": [
      "(39995, 72)\n"
     ]
    }
   ],
   "source": [
    "df = pd.get_dummies(df)\n",
    "print(df.shape)"
   ]
  },
  {
   "cell_type": "code",
   "execution_count": 229,
   "metadata": {},
   "outputs": [
    {
     "data": {
      "text/plain": [
       "Index(['age', 'annual_income', 'monthly_expenses', 'old_dependents',\n",
       "       'young_dependents', 'occupants_count', 'house_area', 'loan_tenure',\n",
       "       'loan_installments', 'loan_amount', 'sex_F', 'sex_M', 'sex_TG',\n",
       "       'social_class_GENERAL', 'social_class_MUSLIM', 'social_class_OBC',\n",
       "       'social_class_Other', 'social_class_SC', 'social_class_ST',\n",
       "       'primary_business_Cow Rearing', 'primary_business_Goat rearing',\n",
       "       'primary_business_Grocery store', 'primary_business_Handloom Work',\n",
       "       'primary_business_Milk business', 'primary_business_Other',\n",
       "       'primary_business_Saree business', 'primary_business_School',\n",
       "       'primary_business_Tailoring', 'primary_business_Vegetable cultivation',\n",
       "       'primary_business_Vegetable vendor', 'primary_business_Weaver',\n",
       "       'secondary_business_Agriculture',\n",
       "       'secondary_business_Daily wage labourer',\n",
       "       'secondary_business_Livestock rearing', 'secondary_business_Others',\n",
       "       'secondary_business_none', 'home_ownership_0', 'home_ownership_1',\n",
       "       'type_of_house_R', 'type_of_house_T1', 'type_of_house_T2',\n",
       "       'sanitary_availability_0', 'sanitary_availability_1',\n",
       "       'water_availabity_0', 'water_availabity_1',\n",
       "       'loan_purpose_Agarbatti Business', 'loan_purpose_Agro Based Businesses',\n",
       "       'loan_purpose_Animal husbandry', 'loan_purpose_Apparels',\n",
       "       'loan_purpose_Artifical Jewellry Selling', 'loan_purpose_Beauty Salon',\n",
       "       'loan_purpose_Business Services - I',\n",
       "       'loan_purpose_Business Services - II', 'loan_purpose_Carpentery work',\n",
       "       'loan_purpose_Construction Related Activities', 'loan_purpose_Eateries',\n",
       "       'loan_purpose_Education Loan', 'loan_purpose_Farming/ Agriculture',\n",
       "       'loan_purpose_Flower Business', 'loan_purpose_Food Items',\n",
       "       'loan_purpose_Handicrafts', 'loan_purpose_Laundry Services',\n",
       "       'loan_purpose_Meat Businesses', 'loan_purpose_Others',\n",
       "       'loan_purpose_Recycling/ Waste Management',\n",
       "       'loan_purpose_Repair Services', 'loan_purpose_Retail Sale',\n",
       "       'loan_purpose_Retail Store', 'loan_purpose_Sanitation',\n",
       "       'loan_purpose_Tobacco Related Activities',\n",
       "       'loan_purpose_Transportation Services', 'loan_purpose_Utensil Selling'],\n",
       "      dtype='object')"
      ]
     },
     "execution_count": 229,
     "metadata": {},
     "output_type": "execute_result"
    }
   ],
   "source": [
    "df.columns"
   ]
  },
  {
   "cell_type": "code",
   "execution_count": 246,
   "metadata": {},
   "outputs": [],
   "source": [
    "# Getting train and test data \n",
    "df = shuffle(df)\n",
    "train, test = train_test_split(df, test_size=0.2)"
   ]
  },
  {
   "cell_type": "code",
   "execution_count": 247,
   "metadata": {},
   "outputs": [],
   "source": [
    "xtr, xts = train.drop(['loan_amount'], axis=1), test.drop(['loan_amount'], axis=1)\n",
    "ytr, yts = train['loan_amount'].values, test['loan_amount'].values"
   ]
  },
  {
   "cell_type": "code",
   "execution_count": null,
   "metadata": {},
   "outputs": [],
   "source": []
  },
  {
   "cell_type": "markdown",
   "metadata": {},
   "source": [
    "## Modelling "
   ]
  },
  {
   "cell_type": "code",
   "execution_count": 238,
   "metadata": {},
   "outputs": [],
   "source": [
    "from sklearn.linear_model import ElasticNet, Lasso, BayesianRidge, LassoLarsIC, LinearRegression\n",
    "from sklearn.metrics import mean_squared_error, r2_score\n",
    "from sklearn.ensemble import RandomForestRegressor, GradientBoostingRegressor\n",
    "from sklearn.kernel_ridge import KernelRidge[Desktop Entry]\n",
    "Version=1.0\n",
    "Name[bg]=Tilix\n",
    "Name[cs]=Tilix\n",
    "Name[de]=Tilix\n",
    "Name[en]=Tilix\n",
    "Name[es]=Tilix\n",
    "Name[fi]=Tilix\n",
    "Name[fr]=Tilix\n",
    "Name[id]=Tilix\n",
    "Name[it]=Tilix\n",
    "Name[ja]=Tilix\n",
    "Name[ko]=Tilix\n",
    "Name[nb_NO]=Tilix\n",
    "Name[nl]=Tilix\n",
    "Name[pl]=Tilix\n",
    "Name[pt_BR]=Tilix\n",
    "Name[pt_PT]=Tilix\n",
    "Name[ru]=Tilix\n",
    "Name[sr]=Тајликс\n",
    "Name[sv]=Tilix\n",
    "Name[tr]=Tilix\n",
    "Name[uk]=Tilix\n",
    "Name[zh_CN]=Tilix\n",
    "Name=Tilix\n",
    "Comment[cs]=Dlaždicový terminál pro Gnome\n",
    "Comment[de]=Ein Terminal für GNOME mit Kacheldarstellung\n",
    "Comment[en]=A tiling terminal for Gnome\n",
    "Comment[es]=Una terminal divisible para Gnome\n",
    "Comment[fi]=Laatoittava pääte Gnomelle\n",
    "Comment[fr]=Un terminal scindable pour Gnome\n",
    "Comment[he]=מסוף בריצוף עבור GNOME\n",
    "Comment[it]=Un terminale a riquadri per Gnome\n",
    "Comment[ko]=그놈을 위한 타일링 터미널\n",
    "Comment[nl]=Een terminal voor Gnome met tegelmogelijkheid\n",
    "Comment[pl]=Emuluje działanie terminala w środowisku GNOME wykorzystując interfejs kafli\n",
    "Comment[pt_BR]=Um terminal em mosaico para o GNOME\n",
    "Comment[pt_PT]=Um terminal em mosaico para o GNOME\n",
    "Comment[ru]=Тайлинговый терминал для Gnome\n",
    "Comment[sr]=Плочасти терминал за Гном\n",
    "Comment[sv]=En sida-vid-sida-terminal för GNOME\n",
    "Comment[tr]=Gnome için döşeyen bir terminal\n",
    "Comment[uk]=Мозаїчний термінал для Gnome\n",
    "Comment[zh_CN]=GNOME 的平铺终端模拟器\n",
    "Comment=A tiling terminal for Gnome\n",
    "Keywords[cs]=shell;terminál;příkaz;příkazový řádek;cmd;\n",
    "Keywords[de]=Shell;Prompt;Befehl;Befehlszeile;command;commandline;cmd;\n",
    "Keywords[en]=shell;prompt;command;commandline;cmd;\n",
    "Keywords[es]=shell;prompt;command;commandline;cmd;\n",
    "Keywords[fi]=shell;prompt;command;commandline;cmd;komentorivi;pääte;\n",
    "Keywords[fr]=shell;prompt;commande;ligne de commande;cmd;\n",
    "Keywords[id]=shell;prompt;perintah;baris perintah;cmd;\n",
    "Keywords[it]=shell;prompt;comando;linea di comando;cmd;\n",
    "Keywords[nl]=shell;prompt;opdracht;opdrachtprompt;cmd;\n",
    "Keywords[pl]=powłoka;terminal;polecenie;wiersz poleceń;cmd;\n",
    "Keywords[pt_BR]=shell;prompt;comando;linha de comando;cmd;\n",
    "Keywords[ru]=shell;prompt;command;commandline;cmd;\n",
    "Keywords[sr]=shell;prompt;command;commandline;cmd;terminal;školjka;skoljka;komanda;naredba;linija;šel;терминал;шкољка;команда;наредба;линија;шел;\n",
    "Keywords[sv]=skal;prompt;kommando;kommandorad;cmd;\n",
    "Keywords[tr]=shell;prompt;command;commandline;cmd;\n",
    "Keywords[uk]=shell;prompt;command;commandline;cmd;\n",
    "Keywords=shell;prompt;command;commandline;cmd;\n",
    "Exec=tilix\n",
    "Terminal=false\n",
    "Type=Application\n",
    "StartupNotify=true\n",
    "Categories=System;TerminalEmulator;X-GNOME-Utilities;\n",
    "Icon[cs]=com.gexperts.Tilix\n",
    "Icon[de]=com.gexperts.Tilix\n",
    "Icon[en]=com.gexperts.Tilix\n",
    "Icon[es]=com.gexperts.Tilix\n",
    "Icon[fi]=com.gexperts.Tilix\n",
    "Icon[fr]=com.gexperts.Tilix\n",
    "Icon[id]=com.gexperts.Tilix\n",
    "Icon[it]=com.gexperts.Tilix\n",
    "Icon[nl]=com.gexperts.Tilix\n",
    "Icon[pl]=com.gexperts.Tilix\n",
    "Icon[pt_BR]=com.gexperts.Tilix\n",
    "Icon[ru]=com.gexperts.Tilix\n",
    "Icon[sr]=com.gexperts.Tilix\n",
    "Icon[sv]=com.gexperts.Tilix\n",
    "Icon[tr]=com.gexperts.Tilix\n",
    "Icon[uk]=com.gexperts.Tilix\n",
    "Icon=com.gexperts.Tilix\n",
    "DBusActivatable=true\n",
    "Actions=new-window;new-session;\n",
    "\n",
    "[Desktop Action new-window]\n",
    "Name[bg]=Нов прозорец\n",
    "Name[cs]=Nové okno\n",
    "Name[de]=Neues Fenster\n",
    "Name[el]=Νέο παράθυρο\n",
    "Name[en]=New Window\n",
    "Name[es]=Ventana nueva\n",
    "Name[fi]=Uusi ikkuna\n",
    "Name[fr]=Nouvelle fenêtre\n",
    "Name[he]=חלון חדש\n",
    "Name[id]=Jendela Baru\n",
    "Name[it]=Nuova finestra\n",
    "Name[ja]=新しいウィンドウ\n",
    "Name[ko]=새 창\n",
    "Name[nb_NO]=Nytt vindu\n",
    "Name[nl]=Nieuw venster\n",
    "Name[pl]=Nowe okno\n",
    "Name[pt_BR]=Nova janela\n",
    "Name[pt_PT]=Nova janela\n",
    "Name[ru]=Новое окно\n",
    "Name[sr]=Нови прозор\n",
    "Name[sv]=Nytt fönster\n",
    "Name[tr]=Yeni Pencere\n",
    "Name[uk]=Створити вікно\n",
    "Name[zh_CN]=新建窗口\n",
    "Name[zh_TW]=新建視窗\n",
    "Name=New Window\n",
    "Exec=tilix --action=app-new-window\n",
    "\n",
    "[Desktop Action new-session]\n",
    "Name[bg]=Нова сесия\n",
    "Name[cs]=Nové sezení\n",
    "Name[de]=Neue Sitzung\n",
    "Name[el]=Νέα συνεδρία\n",
    "Name[en]=New Session\n",
    "Name[es]=Sesión nueva\n",
    "Name[fi]=Uusi istunto\n",
    "Name[fr]=Nouvelle session\n",
    "Name[he]=הפעלה חדשה\n",
    "Name[id]=Sesi Baru\n",
    "Name[it]=Nuova sessione\n",
    "Name[ja]=新しいセッション\n",
    "Name[ko]=새 세션\n",
    "Name[nb_NO]=Ny økt\n",
    "Name[nl]=Nieuwe sessie\n",
    "Name[pl]=Nowa sesja\n",
    "Name[pt_BR]=Nova sessão\n",
    "Name[pt_PT]=Nova sessão\n",
    "Name[ru]=Новый сеанс\n",
    "Name[sr]=Нова сесија\n",
    "Name[sv]=Ny session\n",
    "Name[tr]=Yeni Oturum\n",
    "Name[uk]=Створити сеанс\n",
    "Name[zh_CN]=新建会话\n",
    "Name[zh_TW]=新建會話\n",
    "Name=New Session\n",
    "Exec=tilix --action=app-new-session\n",
    "\n",
    "from sklearn.pipeline import make_pipeline\n",
    "from sklearn.preprocessing import RobustScaler\n",
    "from sklearn.base import BaseEstimator, TransformerMixin, RegressorMixin, clone\n",
    "from sklearn.model_selection import KFold, cross_val_score, train_test_split\n",
    "import xgboost as xgb \n",
    "import lightgbm as lgb "
   ]
  },
  {
   "cell_type": "code",
   "execution_count": 275,
   "metadata": {},
   "outputs": [],
   "source": [
    "def rmse(ytrue, ypred):\n",
    "    return np.sqrt(mean_squared_error(ytrue, ypred))"
   ]
  },
  {
   "cell_type": "code",
   "execution_count": 274,
   "metadata": {},
   "outputs": [
    {
     "name": "stdout",
     "output_type": "stream",
     "text": [
      "train rmse: 0.043614\n",
      "train rmse: 0.042655\n"
     ]
    }
   ],
   "source": [
    "regr = LinearRegression()\n",
    "# Train the model using the training sets\n",
    "regr.fit(xtr, ytr)\n",
    "\n",
    "print(\"train rmse: %.6f\" % sqrt(mean_squared_error(ytr, regr.predict(xtr))))\n",
    "print(\"train rmse: %.6f\" % sqrt(mean_squared_error(yts, regr.predict(xts))))"
   ]
  },
  {
   "cell_type": "code",
   "execution_count": 276,
   "metadata": {},
   "outputs": [
    {
     "name": "stdout",
     "output_type": "stream",
     "text": [
      "Error 0.03308\n"
     ]
    }
   ],
   "source": [
    "mdl = RandomForestRegressor(n_estimators=1000, n_jobs=-1, random_state=0)\n",
    "mdl.fit(xtr, ytr)\n",
    "p = mdl.predict(xts)  \n",
    "error = rmse(yts, p)\n",
    "print('Error %.5f' % (error))"
   ]
  },
  {
   "cell_type": "markdown",
   "metadata": {},
   "source": [
    "## Base Models \n",
    "* **LASSO** regression: This model maybe very sensitive to outliers, so we need to make it more robust "
   ]
  },
  {
   "cell_type": "code",
   "execution_count": 138,
   "metadata": {},
   "outputs": [],
   "source": [
    "lasso = make_pipeline(RobustScaler(), Lasso(alpha=0.0005, random_state=1))"
   ]
  },
  {
   "cell_type": "code",
   "execution_count": 139,
   "metadata": {},
   "outputs": [],
   "source": [
    "# Elastic Net\n",
    "Enet = make_pipeline(RobustScaler(), ElasticNet(alpha=0.0005, l1_ratio=0.9, random_state=3))"
   ]
  },
  {
   "cell_type": "code",
   "execution_count": 140,
   "metadata": {},
   "outputs": [],
   "source": [
    "# Kernal Ridge Regression\n",
    "KRR = KernelRidge(alpha=0.6, kernel='polynomial', degree=2, coef0=2.5)"
   ]
  },
  {
   "cell_type": "markdown",
   "metadata": {},
   "source": [
    "* **Gradient Bossting**: With huber loss that makes it robust to outliers. "
   ]
  },
  {
   "cell_type": "code",
   "execution_count": 141,
   "metadata": {},
   "outputs": [],
   "source": [
    "GBoost = GradientBoostingRegressor(n_estimators=3000, learning_rate=0.05,\n",
    "                                  max_depth=4, max_features='sqrt',\n",
    "                                  min_samples_leaf=15, min_samples_split=10,\n",
    "                                  loss='huber', random_state=5)"
   ]
  },
  {
   "cell_type": "markdown",
   "metadata": {},
   "source": [
    "* **XGBoost** "
   ]
  },
  {
   "cell_type": "code",
   "execution_count": 142,
   "metadata": {},
   "outputs": [],
   "source": [
    "model_xgb = xgb.XGBRegressor(colsample_bytree=0.4603, gamma=0.0468,\n",
    "                            learning_rate=0.05, max_depth=3,\n",
    "                            min_child_weight=1.7817, n_estimators=2200,\n",
    "                            reg_alpha=0.4640, reg_lambda=0.8571,\n",
    "                            subsample= 0.5213, silent=1, random_state=7,\n",
    "                            nthread=-1)"
   ]
  },
  {
   "cell_type": "markdown",
   "metadata": {},
   "source": [
    "* **LightGBM** "
   ]
  },
  {
   "cell_type": "code",
   "execution_count": 143,
   "metadata": {},
   "outputs": [],
   "source": [
    "model_lgb = lgb.LGBMRegressor(objective='regression', num_leaves=5,\n",
    "                             learning_rate=0.05, n_estimators=720,\n",
    "                             max_bin=55, bagging_fraction=0.8,\n",
    "                             bagging_freq=5, feature_fraction=0.2319,\n",
    "                             feature_fraction_seed=9, bagging_seed=9,\n",
    "                             min_data_in_leaf=6, min_sum_hessian_in_leaf=11)"
   ]
  },
  {
   "cell_type": "markdown",
   "metadata": {},
   "source": [
    "## Base Model Scores "
   ]
  },
  {
   "cell_type": "code",
   "execution_count": 144,
   "metadata": {},
   "outputs": [
    {
     "name": "stdout",
     "output_type": "stream",
     "text": [
      "\n",
      "Lasso score: 9039.5709 (1539.6980)\n",
      "\n"
     ]
    }
   ],
   "source": [
    "score = rmsle_cv(lasso)\n",
    "print(\"\\nLasso score: {:.4f} ({:.4f})\\n\".format(score.mean(), score.std()))"
   ]
  },
  {
   "cell_type": "code",
   "execution_count": 145,
   "metadata": {},
   "outputs": [
    {
     "name": "stdout",
     "output_type": "stream",
     "text": [
      "ElasticNet score: 9040.0048 (1539.2509)\n",
      "\n"
     ]
    }
   ],
   "source": [
    "score = rmsle_cv(Enet)\n",
    "print(\"ElasticNet score: {:.4f} ({:.4f})\\n\".format(score.mean(), score.std()))"
   ]
  },
  {
   "cell_type": "code",
   "execution_count": 146,
   "metadata": {},
   "outputs": [
    {
     "name": "stdout",
     "output_type": "stream",
     "text": [
      "Xgboost score: 7475.6691 (1573.0830)\n",
      "\n"
     ]
    }
   ],
   "source": [
    "score = rmsle_cv(model_xgb)\n",
    "print(\"Xgboost score: {:.4f} ({:.4f})\\n\".format(score.mean(), score.std()))"
   ]
  },
  {
   "cell_type": "code",
   "execution_count": 166,
   "metadata": {},
   "outputs": [],
   "source": [
    "numeric_feats = df.dtypes[df.dtypes != \"object\"].index"
   ]
  },
  {
   "cell_type": "code",
   "execution_count": 168,
   "metadata": {},
   "outputs": [
    {
     "data": {
      "text/plain": [
       "age                         int64\n",
       "sex                      category\n",
       "social_class             category\n",
       "primary_business         category\n",
       "secondary_business       category\n",
       "annual_income             float64\n",
       "monthly_expenses          float64\n",
       "old_dependents              int64\n",
       "young_dependents            int64\n",
       "home_ownership           category\n",
       "type_of_house              object\n",
       "occupants_count             int64\n",
       "house_area                float64\n",
       "sanitary_availability    category\n",
       "water_availabity         category\n",
       "loan_purpose               object\n",
       "loan_tenure                 int64\n",
       "loan_installments           int64\n",
       "loan_amount               float64\n",
       "dtype: object"
      ]
     },
     "execution_count": 168,
     "metadata": {},
     "output_type": "execute_result"
    }
   ],
   "source": []
  },
  {
   "cell_type": "code",
   "execution_count": null,
   "metadata": {},
   "outputs": [],
   "source": []
  }
 ],
 "metadata": {
  "kernelspec": {
   "display_name": "Python 3",
   "language": "python",
   "name": "python3"
  },
  "language_info": {
   "codemirror_mode": {
    "name": "ipython",
    "version": 3
   },
   "file_extension": ".py",
   "mimetype": "text/x-python",
   "name": "python",
   "nbconvert_exporter": "python",
   "pygments_lexer": "ipython3",
   "version": "3.6.8"
  }
 },
 "nbformat": 4,
 "nbformat_minor": 2
}
